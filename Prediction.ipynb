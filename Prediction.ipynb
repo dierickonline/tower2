{
 "cells": [
  {
   "cell_type": "code",
   "execution_count": null,
   "metadata": {},
   "outputs": [],
   "source": [
    "import torch\n",
    "import os\n",
    "import numpy as np\n",
    "from PIL import Image, ImageDraw, ImageFont\n",
    "from torchvision.models.detection.faster_rcnn import fasterrcnn_resnet50_fpn, FasterRCNN_ResNet50_FPN_Weights\n",
    "from torchvision.models.detection.faster_rcnn import FastRCNNPredictor\n",
    "import torchvision.transforms as T\n",
    "\n",
    "model = fasterrcnn_resnet50_fpn(weights=FasterRCNN_ResNet50_FPN_Weights.DEFAULT)\n",
    "# Modify the classifier to fit the number of classes\n",
    "num_classes = 9  # Your number of classes + background\n",
    "in_features = model.roi_heads.box_predictor.cls_score.in_features\n",
    "model.roi_heads.box_predictor = FastRCNNPredictor(in_features, num_classes)\n",
    "\n",
    "\n",
    "model.load_state_dict(torch.load('model/model_weights.pth'))"
   ]
  },
  {
   "cell_type": "code",
   "execution_count": null,
   "metadata": {},
   "outputs": [],
   "source": [
    "# Splitting the path for clarity and correctness\n",
    "base_path = '../Tower/data'\n",
    "sub_folder = 'P10/H2-DOWN/img'\n",
    "file_name = 'P10STR_104.17_106.46_019.55_021.83_H2_DOWN_038_Q0224.jpeg'  # Add file extension if needed, e.g., '.jpg'\n",
    "\n",
    "# Construct the path using os.path.join\n",
    "file_path = os.path.join(base_path, sub_folder, file_name)\n",
    "\n",
    "# Load the image\n",
    "img = Image.open(file_path).convert('RGB')\n",
    "\n",
    "# Convert the PIL Image to a PyTorch Tensor\n",
    "# Instead of manually converting and normalizing, let's use torchvision transforms\n",
    "transform = T.Compose([\n",
    "    T.ToTensor(),  # Converts to Tensor and scales to [0, 1])  # Assuming your model expects 224x224 images\n",
    "])\n",
    "\n",
    "img_tensor = transform(img)\n",
    "\n",
    "# Add a batch dimension since PyTorch models expect batches\n",
    "img_tensor = img_tensor.unsqueeze(0)\n",
    "\n",
    "# Determine the device dynamically\n",
    "device = torch.device(\"cuda\" if torch.cuda.is_available() else \"cpu\")\n",
    "img_tensor = img_tensor.to(device)  # Move tensor to the appropriate device\n",
    "\n",
    "# Ensure the model is on the same device and set it to evaluation mode\n",
    "model = model.to(device)\n",
    "model.eval()\n",
    "\n",
    "# Perform the prediction\n",
    "with torch.no_grad():\n",
    "    prediction = model(img_tensor)\n",
    "\n",
    "# Process the prediction output as needed\n",
    "print(prediction)\n",
    "\n",
    "# Display the image (if you're in an environment that supports this, like Jupyter)\n",
    "img.show()"
   ]
  },
  {
   "cell_type": "code",
   "execution_count": null,
   "metadata": {},
   "outputs": [],
   "source": [
    "from PIL import Image, ImageDraw, ImageFont\n",
    "import torchvision.transforms.functional as TF\n",
    "\n",
    "im = TF.to_pil_image(img_tensor.squeeze().cpu())\n",
    "draw = ImageDraw.Draw(im)\n",
    "\n",
    "for index, box in enumerate(prediction[0]['boxes'].cpu().numpy()):\n",
    "    if prediction[0]['scores'][index] > 0.24:\n",
    "        draw.rectangle(box, width=5, outline=\"red\")\n",
    "        text = str(prediction[0]['labels'][index].item())\n",
    "        text = text + ' score: ' + str(round(prediction[0]['scores'][index].item(),2))\n",
    "        font = ImageFont.truetype(\"arial.ttf\", size=40)\n",
    "        text_position = (box[0], box[3])\n",
    "        draw.text(text_position, text, fill=\"red\", font=font)\n",
    "\n",
    "im"
   ]
  }
 ],
 "metadata": {
  "kernelspec": {
   "display_name": ".venv",
   "language": "python",
   "name": "python3"
  },
  "language_info": {
   "codemirror_mode": {
    "name": "ipython",
    "version": 3
   },
   "file_extension": ".py",
   "mimetype": "text/x-python",
   "name": "python",
   "nbconvert_exporter": "python",
   "pygments_lexer": "ipython3",
   "version": "3.12.2"
  }
 },
 "nbformat": 4,
 "nbformat_minor": 2
}
