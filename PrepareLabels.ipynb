{
 "cells": [
  {
   "cell_type": "code",
   "execution_count": 6,
   "metadata": {},
   "outputs": [],
   "source": [
    "import pandas as pd\n",
    "import ast\n",
    "\n",
    "# Read the csv file\n",
    "df= pd.read_csv('data/labels.csv')\n",
    "\n",
    "# Replace the personal path to data/\n",
    "df['image_path'] = df['image_path'].str.replace('^/media/tom/Elements/rgb_dataset_multi_patches', 'data', regex=True)\n",
    "\n",
    "# Drop the 'original' column, we don't need it\n",
    "df.drop('original', axis=1, inplace=True)\n",
    "\n",
    "# Drop the 'Unnamed: 0' column, we don't need it\n",
    "df.drop('Unnamed: 0', axis=1, inplace=True)\n",
    "\n",
    "# Delete the rows from the empty folder, because they don't have a box nor class\n",
    "df = df[~df['image_path'].str.contains('empty')]\n",
    "\n",
    "# Convert string representation to actual list of dictionaries\n",
    "df['objects'] = df['objects'].apply(ast.literal_eval)\n",
    "\n",
    "# Extract 'box' and 'class' into new columns\n",
    "df['boxes'] = df['objects'].apply(lambda x: [d['box'] for d in x])\n",
    "df['classes'] = df['objects'].apply(lambda x: [d['class'] for d in x])\n",
    "\n",
    "# Drop the 'objects' column if it's no longer necessary\n",
    "df.drop('objects', axis=1, inplace=True)\n",
    "\n",
    "# Check bouding boxes validity\n",
    "df['is_valid'] = True\n",
    "\n",
    "for i, row in df.iterrows():\n",
    "    boxes = row['boxes']\n",
    "    for box in boxes:\n",
    "        x_min, y_min, x_max, y_max = box\n",
    "\n",
    "         # Calculate width and height\n",
    "        width = x_max - x_min\n",
    "        height = y_max - y_min\n",
    "\n",
    "        # Check if both width and height are positive\n",
    "        if width <= 0 or height <= 0:\n",
    "            df.at[i, 'is_valid'] = False\n",
    "\n",
    "# Delete the rows from the empty folder, because they don't have a box nor class\n",
    "df = df[df['is_valid']]\n",
    "\n",
    "# Write the file\n",
    "df.to_csv('data/labels2.csv', index=False)"
   ]
  }
 ],
 "metadata": {
  "kernelspec": {
   "display_name": ".venv",
   "language": "python",
   "name": "python3"
  },
  "language_info": {
   "codemirror_mode": {
    "name": "ipython",
    "version": 3
   },
   "file_extension": ".py",
   "mimetype": "text/x-python",
   "name": "python",
   "nbconvert_exporter": "python",
   "pygments_lexer": "ipython3",
   "version": "3.12.2"
  }
 },
 "nbformat": 4,
 "nbformat_minor": 2
}
